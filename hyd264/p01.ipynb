{
 "cells": [
  {
   "cell_type": "code",
   "execution_count": 2,
   "metadata": {
    "collapsed": true,
    "pycharm": {
     "is_executing": false
    }
   },
   "outputs": [],
   "source": [
    "import pandas as pd\n",
    "import numpy as np\n",
    "import matplotlib.pyplot as plt\n",
    "import scipy.integrate as integrate"
   ]
  },
  {
   "cell_type": "code",
   "execution_count": 29,
   "outputs": [
    {
     "name": "stdout",
     "text": [
      "0.9816843611112658\n",
      "(0.9816843611112658, 3.404618047321379e-13) (0.0003354626278992676, 1.241779016914674e-09)\n"
     ],
     "output_type": "stream"
    },
    {
     "data": {
      "text/plain": "<Figure size 432x288 with 1 Axes>",
      "image/png": "[encoded data removed]"
     },
     "metadata": {
      "needs_background": "light"
     },
     "output_type": "display_data"
    }
   ],
   "source": [
    "#Derivative: 1 + exp(-4x)\n",
    "\n",
    "def cdf_p1(x):\n",
    "    \n",
    "    Fx = 1 - np.exp(-4 * x)\n",
    "    \n",
    "    return np.where(x < 0., 0., Fx)\n",
    "\n",
    "def pdf_p1(x):\n",
    "    \n",
    "    fx = 4 * np.exp(-4 * x)\n",
    "    \n",
    "    return np.where(x < 0., 0., fx)\n",
    "\n",
    "xs = np.arange(0., 10., .1)\n",
    "ys = np.where(xs < 0., 0., cdf_p1(xs))\n",
    "\n",
    "asdf = pd.DataFrame({'xs' : xs, 'ys' : ys}, index=xs)\n",
    "print(asdf['ys'][1.])\n",
    "a_x1 = integrate.quad(pdf_p1, -np.inf, 1.)\n",
    "a_x2 = integrate.quad(pdf_p1, 2., np.inf)\n",
    "print(a_x1, a_x2)\n",
    "\n",
    "plt.plot(xs, cdf_p1(xs))\n",
    "plt.show()"
   ],
   "metadata": {
    "collapsed": false,
    "pycharm": {
     "name": "#%%\n",
     "is_executing": false
    }
   }
  },
  {
   "cell_type": "code",
   "execution_count": null,
   "outputs": [],
   "source": [
    "\n"
   ],
   "metadata": {
    "collapsed": false,
    "pycharm": {
     "name": "#%%\n"
    }
   }
  }
 ],
 "metadata": {
  "kernelspec": {
   "display_name": "Python 3",
   "language": "python",
   "name": "python3"
  },
  "language_info": {
   "codemirror_mode": {
    "name": "ipython",
    "version": 2
   },
   "file_extension": ".py",
   "mimetype": "text/x-python",
   "name": "python",
   "nbconvert_exporter": "python",
   "pygments_lexer": "ipython2",
   "version": "2.7.6"
  },
  "pycharm": {
   "stem_cell": {
    "cell_type": "raw",
    "source": [],
    "metadata": {
     "collapsed": false
    }
   }
  }
 },
 "nbformat": 4,
 "nbformat_minor": 0
}